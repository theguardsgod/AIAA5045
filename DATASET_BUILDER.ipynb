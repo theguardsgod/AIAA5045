{
  "nbformat": 4,
  "nbformat_minor": 0,
  "metadata": {
    "colab": {
      "name": "custom_covid_dataset_builder.ipynb",
      "provenance": [],
      "collapsed_sections": [],
      "authorship_tag": "ABX9TyMnCI0/Uo3lMTxDvf3NgBQu",
      "include_colab_link": true
    },
    "kernelspec": {
      "name": "python3",
      "display_name": "Python 3"
    },
    "accelerator": "GPU"
  },
  "cells": [
    {
      "cell_type": "markdown",
      "metadata": {
        "id": "view-in-github",
        "colab_type": "text"
      },
      "source": [
        "<a href=\"https://colab.research.google.com/github/SimoneRosset/AUGMENTATION_GAN/blob/master/custom_covid_dataset_builder.ipynb\" target=\"_parent\"><img src=\"https://colab.research.google.com/assets/colab-badge.svg\" alt=\"Open In Colab\"/></a>"
      ]
    },
    {
      "cell_type": "markdown",
      "metadata": {
        "id": "Zxv4fbaYUIon",
        "colab_type": "text"
      },
      "source": [
        "# CUSTOM COVID-19 X-RAYs SCANS DATASET BUILDER"
      ]
    },
    {
      "cell_type": "code",
      "metadata": {
        "id": "7HiUA-waF1vI",
        "colab_type": "code",
        "colab": {}
      },
      "source": [
        "import torch\n",
        "import torchvision\n",
        "import torchvision.transforms as transforms\n",
        "from torchsummary import summary"
      ],
      "execution_count": null,
      "outputs": []
    },
    {
      "cell_type": "code",
      "metadata": {
        "id": "UnEsFdblgHH-",
        "colab_type": "code",
        "colab": {}
      },
      "source": [
        "import os\n",
        "from tqdm import notebook\n",
        "from sklearn.metrics import classification_report, confusion_matrix\n",
        "from tabulate import tabulate\n",
        "import gc\n",
        "import matplotlib.pyplot as plt\n",
        "import numpy as np\n",
        "from PIL import Image"
      ],
      "execution_count": null,
      "outputs": []
    },
    {
      "cell_type": "code",
      "metadata": {
        "id": "jkvQS_ffS7yE",
        "colab_type": "code",
        "colab": {}
      },
      "source": [
        "!git clone https://github.com/vj2050/Transfer-Learning-COVID-19.git"
      ],
      "execution_count": null,
      "outputs": []
    },
    {
      "cell_type": "code",
      "metadata": {
        "id": "mV2-VF7TSxHC",
        "colab_type": "code",
        "colab": {}
      },
      "source": [
        "!git clone https://github.com/SimoneRosset/AUGMENTATION_GAN.git"
      ],
      "execution_count": null,
      "outputs": []
    },
    {
      "cell_type": "code",
      "metadata": {
        "id": "WDfRQKdehgiX",
        "colab_type": "code",
        "colab": {}
      },
      "source": [
        "for func in [lambda: os.mkdir(os.path.join('.','AUGMENTATION_GAN/custom_covid_dataset/')),\n",
        "            lambda: os.mkdir(os.path.join('.', 'AUGMENTATION_GAN/custom_covid_dataset/test/')),\n",
        "            lambda: os.mkdir(os.path.join('.', 'AUGMENTATION_GAN/custom_covid_dataset/test/covid')),\n",
        "            lambda: os.mkdir(os.path.join('.', 'AUGMENTATION_GAN/custom_covid_dataset/test/normal')),\n",
        "            lambda: os.mkdir(os.path.join('.', 'AUGMENTATION_GAN/custom_covid_dataset/test/pneumonia_bac')),\n",
        "            lambda: os.mkdir(os.path.join('.', 'AUGMENTATION_GAN/custom_covid_dataset/test/pneumonia_vir'))]:\n",
        "  try:\n",
        "    func()\n",
        "  except Exception as error:\n",
        "    print(error)\n",
        "    continue\n",
        "\n",
        "sets=[500,1000,2000,3000]\n",
        "\n",
        "paths=[]\n",
        "\n",
        "for i in range(len(sets)):\n",
        "  paths.append('AUGMENTATION_GAN/custom_covid_dataset/train_classic/'+str(sets[i])+'/')\n",
        "  paths.append('AUGMENTATION_GAN/custom_covid_dataset/train_classic/'+str(sets[i])+'/covid')\n",
        "  paths.append('AUGMENTATION_GAN/custom_covid_dataset/train_classic/'+str(sets[i])+'/normal')\n",
        "  paths.append('AUGMENTATION_GAN/custom_covid_dataset/train_classic/'+str(sets[i])+'/pneumonia_bac')\n",
        "  paths.append('AUGMENTATION_GAN/custom_covid_dataset/train_classic/'+str(sets[i])+'/pneumonia_vir')\n",
        "\n",
        "for path in paths:\n",
        "  try:\n",
        "    os.mkdir(os.path.join('.', path))\n",
        "  except Exception as error:\n",
        "    print(error)\n",
        "    continue"
      ],
      "execution_count": null,
      "outputs": []
    },
    {
      "cell_type": "code",
      "metadata": {
        "id": "5_RpgtM2fx1J",
        "colab_type": "code",
        "colab": {}
      },
      "source": [
        "img_dim=64\n",
        "N_rot=2\n",
        "N_flip=2\n",
        "N_tran=4\n",
        "N_scal=4\n",
        "N_color=2\n",
        "transform_list=[]\n",
        "\n",
        "transform_list.append(transforms.Resize((img_dim*2,img_dim*2),interpolation=2))\n",
        "\n",
        "for i in range(N_color):\n",
        "  transform_list.append(transforms.RandomApply([transforms.ColorJitter(brightness=0.5, contrast=0.5, saturation=0.5, hue=0.5)],p=0.5))\n",
        "for i in range(N_rot):\n",
        "  transform_list.append(transforms.RandomApply([transforms.RandomRotation(degrees=(-5,5))], p=0.5))\n",
        "for i in range(N_flip):\n",
        "  transform_list.append(transforms.RandomHorizontalFlip(p=0.5))\n",
        "for i in range(N_scal):\n",
        "  transform_list.append(transforms.RandomApply([transforms.RandomAffine(degrees=0,scale=(0.9,1.1))], p=0.5))\n",
        "for i in range(N_tran):\n",
        "  transform_list.append(transforms.RandomApply([transforms.RandomAffine(degrees=0,translate=(0.1,0.1))], p=0.5))\n",
        "\n",
        "transform_list.append(transforms.Resize((img_dim,img_dim),interpolation=2))\n",
        "\n",
        "transform_list.append(transforms.ToTensor())\n",
        "\n",
        "transform = transforms.Compose(transform_list)\n",
        "\n",
        "test_transform = transforms.Compose([transforms.Resize((img_dim,img_dim),interpolation=2),\n",
        "                                    transforms.ToTensor(),\n",
        "                                    ])"
      ],
      "execution_count": null,
      "outputs": []
    },
    {
      "cell_type": "code",
      "metadata": {
        "id": "Psz_Y4I9GBBn",
        "colab_type": "code",
        "colab": {}
      },
      "source": [
        "class MyImageFolder(torchvision.datasets.ImageFolder):\n",
        "  def __getitem__(self, index):\n",
        "    return super(MyImageFolder, self).__getitem__(index)[0], super(MyImageFolder, self).__getitem__(index)[1], self.imgs[index][0]#return image path"
      ],
      "execution_count": null,
      "outputs": []
    },
    {
      "cell_type": "code",
      "metadata": {
        "id": "2YOlOfWPFTys",
        "colab_type": "code",
        "colab": {}
      },
      "source": [
        "batch_size=1\n",
        "data_dir='Transfer-Learning-COVID-19/dataset_4_classes/'\n",
        "\n",
        "trainset = MyImageFolder(os.path.join(\n",
        "          data_dir, \"train/\"), transform=transform)\n",
        "trainloader = torch.utils.data.DataLoader(\n",
        "          trainset, batch_size=batch_size, shuffle=True)\n",
        "testset = MyImageFolder(os.path.join( \n",
        "          data_dir, \"test/\"), transform=test_transform)\n",
        "testloader = torch.utils.data.DataLoader(\n",
        "          testset, batch_size=batch_size, shuffle=False)\n",
        "normalset = MyImageFolder(os.path.join(\n",
        "          data_dir, \"train/\"), transform=test_transform)\n",
        "normalloader = torch.utils.data.DataLoader(\n",
        "          normalset, batch_size=batch_size, shuffle=False)\n",
        "\n",
        "classes = (\"covid\", \"normal\", \"pneumonia_bac\",\"pneumonia_vir\")"
      ],
      "execution_count": null,
      "outputs": []
    },
    {
      "cell_type": "code",
      "metadata": {
        "id": "2rMBlGLfPn3X",
        "colab_type": "code",
        "colab": {}
      },
      "source": [
        "# functions to show an image\n",
        "\n",
        "def imshow(img):\n",
        "    #img = img / 2 + 0.5     # unnormalize\n",
        "    npimg = img.numpy()\n",
        "    plt.imshow(np.transpose(npimg, (1, 2, 0)))\n",
        "    plt.show()\n"
      ],
      "execution_count": null,
      "outputs": []
    },
    {
      "cell_type": "code",
      "metadata": {
        "id": "E5_y_AE9VfN_",
        "colab_type": "code",
        "colab": {
          "base_uri": "https://localhost:8080/",
          "height": 285
        },
        "outputId": "b4cb56ee-0db4-449b-c0de-342d1b356418"
      },
      "source": [
        "# get some random training images\n",
        "dataiter = iter(trainloader)\n",
        "images, labels, path = dataiter.next()\n",
        "\n",
        "# show images\n",
        "imshow(torchvision.utils.make_grid(images))\n",
        "# print labels\n",
        "print(' '.join('%5s' % classes[labels[j]] for j in range(batch_size)))\n",
        "\n",
        "name, ext= (path[0].split('/')[-1]).rsplit('.', 1)"
      ],
      "execution_count": null,
      "outputs": [
        {
          "output_type": "display_data",
          "data": {
            "image/png": "[encoded data removed]",
            "text/plain": [
              "<Figure size 432x288 with 1 Axes>"
            ]
          },
          "metadata": {
            "tags": [],
            "needs_background": "light"
          }
        },
        {
          "output_type": "stream",
          "text": [
            "pneumonia_bac\n"
          ],
          "name": "stdout"
        }
      ]
    },
    {
      "cell_type": "code",
      "metadata": {
        "id": "SR0vD-Cca3dd",
        "colab_type": "code",
        "colab": {}
      },
      "source": [
        "#MAKE FOLDER TEST\n",
        "dataiter = iter(testloader)\n",
        "\n",
        "for i in range(len(testloader.dataset)):\n",
        "    images, labels, path = dataiter.next()\n",
        "   \n",
        "    npimg = np.transpose(images.squeeze(0).numpy(), (1, 2, 0))\n",
        "\n",
        "    img = Image.fromarray((npimg * 255).astype(np.uint8))\n",
        "\n",
        "    name, ext= (path[0].split(\"/\")[-1]).rsplit('.', 1)\n",
        "\n",
        "    fold=classes[labels[0]]\n",
        "\n",
        "    abs_path='AUGMENTATION_GAN/custom_covid_dataset/test/'+fold+'/'+name+'.'+ext\n",
        "\n",
        "    if ext=='png':\n",
        "      img.save(abs_path, 'PNG')\n",
        "    else:\n",
        "      img.save(abs_path, 'JPEG')"
      ],
      "execution_count": null,
      "outputs": []
    },
    {
      "cell_type": "code",
      "metadata": {
        "id": "JJ8zuHztBsDE",
        "colab_type": "code",
        "colab": {}
      },
      "source": [
        "#MAKE FOLDER 0\n",
        "dataiter = iter(normalloader)\n",
        "\n",
        "for i in range(len(normalloader.dataset)):\n",
        "    images, labels, path = dataiter.next()\n",
        "   \n",
        "    npimg = np.transpose(images.squeeze(0).numpy(), (1, 2, 0))\n",
        "\n",
        "    img = Image.fromarray((npimg * 255).astype(np.uint8))\n",
        "\n",
        "    name, ext= (path[0].split(\"/\")[-1]).rsplit('.', 1)\n",
        "\n",
        "    fold=classes[labels[0]]\n",
        "\n",
        "    abs_path='AUGMENTATION_GAN/custom_covid_dataset/train/'+fold+'/'+name+'.'+ext\n",
        "\n",
        "    if ext=='png':\n",
        "      img.save(abs_path, 'PNG')\n",
        "    else:\n",
        "      img.save(abs_path, 'JPEG')"
      ],
      "execution_count": null,
      "outputs": []
    },
    {
      "cell_type": "code",
      "metadata": {
        "id": "V7MHt8l3SjnQ",
        "colab_type": "code",
        "colab": {
          "base_uri": "https://localhost:8080/",
          "height": 81
        },
        "outputId": "5ded8e65-308d-400c-b859-8791f488d58d"
      },
      "source": [
        "dataiter = iter(normalloader)\n",
        "\n",
        "images, labels, path = dataiter.next()\n",
        "   \n",
        "npimg = np.transpose(images.squeeze(0).numpy(), (1, 2, 0))\n",
        "\n",
        "im = Image.fromarray((npimg * 255).astype(np.uint8))\n",
        "\n",
        "display(im)"
      ],
      "execution_count": null,
      "outputs": [
        {
          "output_type": "display_data",
          "data": {
            "image/png": "[encoded data removed]",
            "text/plain": [
              "<PIL.Image.Image image mode=RGB size=64x64 at 0x7FA77ADB96D8>"
            ]
          },
          "metadata": {
            "tags": []
          }
        }
      ]
    },
    {
      "cell_type": "code",
      "metadata": {
        "id": "mR8bwBP0EQHJ",
        "colab_type": "code",
        "colab": {}
      },
      "source": [
        "dataiter = iter(trainloader) # MAKE OTHER FOLDERS\n",
        "\n",
        "for i in range(1,len(sets),1):\n",
        "  covid=sets[i-1] #sequential\n",
        "  normal=sets[i-1]\n",
        "  pneu=sets[i-1]\n",
        "  vir=sets[i-1]\n",
        "  # covid=0 \n",
        "  # normal=0\n",
        "  # pneu=0\n",
        "  none=1\n",
        "  print('folder start: ',sets[i])\n",
        "  dataiter = iter(trainloader)\n",
        " \n",
        "  while covid<sets[i] or normal<sets[i] or pneu<sets[i] or vir<sets[i]:\n",
        "\n",
        "    images, labels, path = dataiter.next()\n",
        "   \n",
        "    npimg = np.transpose(images.squeeze(0).numpy(), (1, 2, 0))\n",
        "\n",
        "    img = Image.fromarray((npimg * 255).astype(np.uint8))\n",
        "\n",
        "    name, ext= (path[0].split('/')[-1]).rsplit('.', 1)\n",
        "\n",
        "    fold=classes[labels[0]]\n",
        "\n",
        "\n",
        "    if fold == 'covid' and covid<sets[i]:\n",
        "      abs_path='AUGMENTATION_GAN/custom_covid_dataset/train_classic/'+str(sets[i])+'/'+fold+'/'+str(sets[i])+'.'+str(covid)+'.'+name+'.'+ext\n",
        "      covid+=1\n",
        "      if ext=='png':\n",
        "        img.save(abs_path, 'PNG')\n",
        "      else:\n",
        "        img.save(abs_path, 'JPEG')\n",
        "    else:\n",
        "      if fold == 'normal' and normal<sets[i]:\n",
        "        abs_path='AUGMENTATION_GAN/custom_covid_dataset/train_classic/'+str(sets[i])+'/'+fold+'/'+str(sets[i])+'.'+str(normal)+'.'+name+'.'+ext\n",
        "        normal+=1\n",
        "        if ext=='png':\n",
        "          img.save(abs_path, 'PNG')\n",
        "        else:\n",
        "          img.save(abs_path, 'JPEG')\n",
        "      else:\n",
        "        if fold == 'pneumonia_bac' and pneu<sets[i]:\n",
        "          abs_path='AUGMENTATION_GAN/custom_covid_dataset/train_classic/'+str(sets[i])+'/'+fold+'/'+str(sets[i])+'.'+str(pneu)+'.'+name+'.'+ext\n",
        "          pneu+=1\n",
        "          if ext=='png':\n",
        "            img.save(abs_path, 'PNG')\n",
        "          else:\n",
        "            img.save(abs_path, 'JPEG')\n",
        "        else:\n",
        "          if fold == 'pneumonia_vir' and vir<sets[i]:\n",
        "            abs_path='AUGMENTATION_GAN/custom_covid_dataset/train_classic/'+str(sets[i])+'/'+fold+'/'+str(sets[i])+'.'+str(vir)+'.'+name+'.'+ext\n",
        "            vir+=1\n",
        "            if ext=='png':\n",
        "              img.save(abs_path, 'PNG')\n",
        "            else:\n",
        "              img.save(abs_path, 'JPEG')\n",
        "          else:\n",
        "            none+=1\n",
        "\n",
        "    if (covid+normal+pneu+vir+none)%200==0:\n",
        "      dataiter = iter(trainloader)"
      ],
      "execution_count": null,
      "outputs": []
    },
    {
      "cell_type": "code",
      "metadata": {
        "id": "tKHZrUjXUpPd",
        "colab_type": "code",
        "colab": {}
      },
      "source": [
        ""
      ],
      "execution_count": null,
      "outputs": []
    }
  ]
}
